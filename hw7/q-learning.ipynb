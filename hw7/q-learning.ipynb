{
 "cells": [
  {
   "cell_type": "code",
   "execution_count": 14,
   "id": "8bcbb969",
   "metadata": {},
   "outputs": [],
   "source": [
    "import numpy as np\n",
    "\n",
    "import random as rd"
   ]
  },
  {
   "cell_type": "code",
   "execution_count": 60,
   "id": "008180a8",
   "metadata": {},
   "outputs": [
    {
     "data": {
      "text/plain": [
       "'\\nInitial Q_table: \\n   move  stay\\nA   0     0\\n\\nB   0     0\\n\\n'"
      ]
     },
     "execution_count": 60,
     "metadata": {},
     "output_type": "execute_result"
    }
   ],
   "source": [
    "\"\"\"\n",
    "Initial Q_table: \n",
    "   move  stay\n",
    "A   0     0\n",
    "\n",
    "B   0     0\n",
    "\n",
    "\"\"\""
   ]
  },
  {
   "cell_type": "markdown",
   "id": "6d59f77c",
   "metadata": {},
   "source": [
    "# 4.1: Q-Learning with greedy policy"
   ]
  },
  {
   "cell_type": "code",
   "execution_count": 259,
   "id": "e9ec91b0",
   "metadata": {},
   "outputs": [
    {
     "name": "stdout",
     "output_type": "stream",
     "text": [
      "Q-table\n",
      " [[0. 0.]\n",
      " [0. 0.]]\n",
      "Total Reward: 0\n"
     ]
    }
   ],
   "source": [
    "q_table = np.zeros((2,2))\n",
    "e = 0.5 #epsilon\n",
    "a = 0.5 #step size\n",
    "g = 0.8 # gamma\n",
    "curr_state = 0\n",
    "r = 0\n",
    "steps = 200\n",
    "tr = 0\n",
    "\n",
    "def select_action(curr_state, q_table):\n",
    "    if q_table[curr_state][0] == q_table[curr_state][1]:\n",
    "        return 0\n",
    "    elif q_table[curr_state][0] < q_table[curr_state][1]:\n",
    "        return 1\n",
    "    else:\n",
    "        return 0\n",
    "    \n",
    "\n",
    "for i in range(steps):\n",
    "    new_a = select_action(curr_state, q_table)\n",
    "    \n",
    "    if (new_a == 0):\n",
    "        r = 0\n",
    "    else:\n",
    "        r = 1\n",
    "        \n",
    "    tr += r\n",
    "    \n",
    "    if (curr_state == new_a):\n",
    "        new_state = 1\n",
    "    else:\n",
    "        new_state = 0\n",
    "    \n",
    "    q_table[curr_state][new_a] = (1 - a) * q_table[curr_state][new_a] + a *(\n",
    "        r + g * max(q_table[new_state][0], q_table[new_state][1]))\n",
    "    \n",
    "    curr_state = new_state\n",
    "\n",
    "print(\"Q-table\\n\", q_table)\n",
    "print(\"Total Reward:\", tr)"
   ]
  },
  {
   "cell_type": "markdown",
   "id": "7a9d88a6",
   "metadata": {},
   "source": [
    "# 4.2: Q-learning with e-greedy policy"
   ]
  },
  {
   "cell_type": "code",
   "execution_count": 270,
   "id": "11b6f59e",
   "metadata": {},
   "outputs": [
    {
     "name": "stdout",
     "output_type": "stream",
     "text": [
      "Q-table\n",
      " [[3.76591609 4.87942947]\n",
      " [3.90063616 4.73832618]]\n",
      "Total Reward: 62\n"
     ]
    }
   ],
   "source": [
    "q_table = np.zeros((2,2))\n",
    "e = 0.5\n",
    "a = 0.5\n",
    "g = 0.8\n",
    "curr_state = 0\n",
    "\n",
    "r = 0\n",
    "steps = 200\n",
    "tr = 0\n",
    "\n",
    "def select_action(curr_state, q_table):\n",
    "    if rd.uniform(0, 1) < e:\n",
    "        return rd.choice([0,1])\n",
    "    else:\n",
    "        if q_table[curr_state][0] == q_table[curr_state][1]:\n",
    "            return rd.choice([0,1])\n",
    "        elif q_table[curr_state][0] < q_table[curr_state][1]:\n",
    "            return 0\n",
    "        else:\n",
    "            return 1\n",
    "    \n",
    "\n",
    "for i in range(steps):\n",
    "    \n",
    "    new_a = select_action(curr_state, q_table)\n",
    "    \n",
    "    \n",
    "    if (new_a == 0):\n",
    "        r = 0\n",
    "    else:\n",
    "        r = 1\n",
    "        \n",
    "    tr += r  \n",
    "    if (curr_state == new_a):\n",
    "        new_state = 1\n",
    "    else:\n",
    "        new_state = 0\n",
    "    \n",
    "    \n",
    "    q_table[curr_state][new_a] = (1 - a) * q_table[curr_state][new_a] + a *(\n",
    "        r + g * max(q_table[new_state][0], q_table[new_state][1]))\n",
    "    \n",
    "    curr_state = new_state\n",
    "    #e = e - 0.01\n",
    "    \n",
    "print(\"Q-table\\n\", q_table)\n",
    "print(\"Total Reward:\", tr)"
   ]
  },
  {
   "cell_type": "code",
   "execution_count": null,
   "id": "05b34881",
   "metadata": {},
   "outputs": [],
   "source": []
  },
  {
   "cell_type": "code",
   "execution_count": null,
   "id": "8073c879",
   "metadata": {},
   "outputs": [],
   "source": []
  },
  {
   "cell_type": "code",
   "execution_count": null,
   "id": "552067bc",
   "metadata": {},
   "outputs": [],
   "source": []
  }
 ],
 "metadata": {
  "kernelspec": {
   "display_name": "Python 3 (ipykernel)",
   "language": "python",
   "name": "python3"
  },
  "language_info": {
   "codemirror_mode": {
    "name": "ipython",
    "version": 3
   },
   "file_extension": ".py",
   "mimetype": "text/x-python",
   "name": "python",
   "nbconvert_exporter": "python",
   "pygments_lexer": "ipython3",
   "version": "3.9.7"
  }
 },
 "nbformat": 4,
 "nbformat_minor": 5
}
