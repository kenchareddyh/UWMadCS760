{
 "cells": [
  {
   "cell_type": "code",
   "execution_count": 1,
   "id": "230cf865",
   "metadata": {},
   "outputs": [],
   "source": [
    "import pandas as pd\n",
    "import matplotlib.pyplot as plt\n",
    "from matplotlib.colors import ListedColormap\n",
    "import numpy as np\n",
    "from sklearn.model_selection import train_test_split\n",
    "from sklearn.neighbors import KNeighborsClassifier"
   ]
  },
  {
   "cell_type": "code",
   "execution_count": 2,
   "id": "3e4db609",
   "metadata": {},
   "outputs": [
    {
     "name": "stdout",
     "output_type": "stream",
     "text": [
      "(5000, 3000) (5000,)\n"
     ]
    }
   ],
   "source": [
    "trainset = pd.read_csv('data/emails.csv')\n",
    "traindata = np.loadtxt('data/emails.csv',delimiter=',', skiprows=1, usecols=range(1,3002))\n",
    "EX_train = traindata[:, :3000]  \n",
    "Ey_train = traindata[:,3000]\n",
    "\n",
    "print(EX_train.shape, Ey_train.shape)"
   ]
  },
  {
   "cell_type": "code",
   "execution_count": 7,
   "id": "22f4b032",
   "metadata": {},
   "outputs": [
    {
     "name": "stdout",
     "output_type": "stream",
     "text": [
      "FOLD: 0\n",
      "Accuracy = 0.825\n",
      "Precision = 0.6544943820224719 Recall = 0.8175438596491228\n",
      "FOLD: 1\n",
      "Accuracy = 0.853\n",
      "Precision = 0.6857142857142857 Recall = 0.8664259927797834\n",
      "FOLD: 2\n",
      "Accuracy = 0.862\n",
      "Precision = 0.7212121212121212 Recall = 0.8380281690140845\n",
      "FOLD: 3\n",
      "Accuracy = 0.851\n",
      "Precision = 0.7164179104477612 Recall = 0.8163265306122449\n",
      "FOLD: 4\n",
      "Accuracy = 0.775\n",
      "Precision = 0.6057441253263708 Recall = 0.7581699346405228\n"
     ]
    }
   ],
   "source": [
    "for i in range(0,5):\n",
    "    print(\"FOLD: \" + str(i))\n",
    "    X_test  = EX_train[i*1000:(i+1)*1000]\n",
    "    y_test  = Ey_train[i*1000:(i+1)*1000] \n",
    "    indices = np.arange(i*1000, (i+1)*1000, 1, dtype=int)\n",
    "    X_train = np.delete(EX_train, indices, axis=0)\n",
    "    y_train = np.delete(Ey_train, indices, axis=0)\n",
    "    #print(X_test.shape, y_test.shape, X_train.shape, y_train.shape)\n",
    "    # initialize the classifier with value of number of neighbors=1\n",
    "    clf = KNeighborsClassifier(1)\n",
    "    # Train the classifier\n",
    "    clf.fit(X_train, y_train)\n",
    "    # Make predictions\n",
    "    predictions = clf.predict(X_test)\n",
    "    accuracy = np.sum(predictions == y_test)/(len(y_test))\n",
    "    TP = np.sum(np.logical_and(predictions == 1, y_test == 1))\n",
    "    TN = np.sum(np.logical_and(predictions == 0, y_test == 0))\n",
    "    FP = np.sum(np.logical_and(predictions == 1, y_test == 0))\n",
    "    FN = np.sum(np.logical_and(predictions == 0, y_test == 1))\n",
    "    print (\"Accuracy = \" + str(accuracy))\n",
    "    print (\"Precision = \" + str (float (TP/(TP+FP))), \"Recall = \" + str (float(TP/(TP+FN))))"
   ]
  },
  {
   "cell_type": "code",
   "execution_count": null,
   "id": "178b1f63",
   "metadata": {},
   "outputs": [],
   "source": []
  }
 ],
 "metadata": {
  "kernelspec": {
   "display_name": "Python 3 (ipykernel)",
   "language": "python",
   "name": "python3"
  },
  "language_info": {
   "codemirror_mode": {
    "name": "ipython",
    "version": 3
   },
   "file_extension": ".py",
   "mimetype": "text/x-python",
   "name": "python",
   "nbconvert_exporter": "python",
   "pygments_lexer": "ipython3",
   "version": "3.9.7"
  }
 },
 "nbformat": 4,
 "nbformat_minor": 5
}
