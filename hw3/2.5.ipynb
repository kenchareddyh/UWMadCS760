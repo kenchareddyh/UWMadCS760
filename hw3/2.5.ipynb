{
 "cells": [
  {
   "cell_type": "code",
   "execution_count": 3,
   "id": "d603d97a",
   "metadata": {},
   "outputs": [],
   "source": [
    "import pandas as pd\n",
    "import matplotlib.pyplot as plt\n",
    "from matplotlib.colors import ListedColormap\n",
    "import numpy as np\n",
    "from sklearn import metrics\n",
    "from sklearn.model_selection import train_test_split\n",
    "from sklearn.neighbors import KNeighborsClassifier\n",
    "import warnings\n",
    "\n",
    "#suppress warnings\n",
    "warnings.filterwarnings('ignore')"
   ]
  },
  {
   "cell_type": "code",
   "execution_count": 14,
   "id": "0a999bc1",
   "metadata": {},
   "outputs": [],
   "source": [
    "#Logistic regression implementation\n",
    "def sig(x):\n",
    "    return 1.0/(1+np.exp(-x))\n",
    "\n",
    "def calc_gradient(X, y, y_hat, m):\n",
    "    grad = (1/m)*np.dot(X.T, (y_hat - y))   \n",
    "    return grad\n",
    "\n",
    "\n",
    "def cost_func(y, y_hat, m):\n",
    "    cost = (-1/m) * np.sum((y * np.log(y_hat)) + (1 - y) * np.log(1 - y_hat))\n",
    "    return cost\n",
    "\n",
    "def fit_log_reg(X, y, itr, lr):\n",
    "    m,n = X.shape\n",
    "    theta = np.zeros((n,1))\n",
    "    cost_list = []\n",
    "    \n",
    "    for i in range(itr):\n",
    "        y_hat = sig(np.dot(X, theta))\n",
    "        grad = calc_gradient(X, y, y_hat, m)\n",
    "        theta = theta - ( lr * grad)\n",
    "        #print(theta.shape)\n",
    "        cost = cost_func(y, sig(np.dot(X, theta)), m)\n",
    "        cost_list.append(cost)\n",
    "    return theta, cost_list\n",
    "        \n",
    "def predict(X, theta):\n",
    "    predictions = sigmoid(np.dot(X, theta))\n",
    "    print(predictions).shape\n",
    "    labels = []\n",
    "              \n",
    "    for pred in predictions:\n",
    "        if pred >= 0.5:\n",
    "            labels.append(1)\n",
    "        else:\n",
    "            labels.append(0)\n",
    "            \n",
    "    labels = np.asarray(labels)\n",
    "    return labels"
   ]
  },
  {
   "cell_type": "code",
   "execution_count": 5,
   "id": "d3681dcb",
   "metadata": {},
   "outputs": [],
   "source": [
    "trainset = pd.read_csv('data/emails.csv')\n",
    "traindata = np.loadtxt('data/emails.csv',delimiter=',', skiprows=1, usecols=range(1,3002))\n",
    "EX_train = traindata[:, :3000]  \n",
    "Ey_train = traindata[:,3000]\n",
    "\n",
    "#print(EX_train.shape, Ey_train.shape)"
   ]
  },
  {
   "cell_type": "code",
   "execution_count": 15,
   "id": "62805e51",
   "metadata": {},
   "outputs": [
    {
     "ename": "KeyboardInterrupt",
     "evalue": "",
     "output_type": "error",
     "traceback": [
      "\u001b[0;31m---------------------------------------------------------------------------\u001b[0m",
      "\u001b[0;31mKeyboardInterrupt\u001b[0m                         Traceback (most recent call last)",
      "\u001b[0;32m/var/folders/gl/_nryh87j2mb45czqyl222zph0000gn/T/ipykernel_64342/2306035176.py\u001b[0m in \u001b[0;36m<module>\u001b[0;34m\u001b[0m\n\u001b[1;32m     20\u001b[0m \u001b[0;34m\u001b[0m\u001b[0m\n\u001b[1;32m     21\u001b[0m \u001b[0;31m# get logistic regression classifer\u001b[0m\u001b[0;34m\u001b[0m\u001b[0;34m\u001b[0m\u001b[0m\n\u001b[0;32m---> 22\u001b[0;31m \u001b[0mtheta\u001b[0m\u001b[0;34m,\u001b[0m\u001b[0mcost_list\u001b[0m \u001b[0;34m=\u001b[0m \u001b[0mfit_log_reg\u001b[0m\u001b[0;34m(\u001b[0m\u001b[0mX_train\u001b[0m\u001b[0;34m,\u001b[0m \u001b[0my_train\u001b[0m\u001b[0;34m,\u001b[0m \u001b[0;36m10000\u001b[0m\u001b[0;34m,\u001b[0m \u001b[0;36m0.01\u001b[0m\u001b[0;34m)\u001b[0m\u001b[0;34m\u001b[0m\u001b[0;34m\u001b[0m\u001b[0m\n\u001b[0m\u001b[1;32m     23\u001b[0m \u001b[0;31m# Make predictions\u001b[0m\u001b[0;34m\u001b[0m\u001b[0;34m\u001b[0m\u001b[0m\n\u001b[1;32m     24\u001b[0m \u001b[0mpredictions\u001b[0m \u001b[0;34m=\u001b[0m \u001b[0mpredict\u001b[0m\u001b[0;34m(\u001b[0m\u001b[0mX_test\u001b[0m\u001b[0;34m,\u001b[0m \u001b[0mtheta\u001b[0m\u001b[0;34m)\u001b[0m\u001b[0;34m\u001b[0m\u001b[0;34m\u001b[0m\u001b[0m\n",
      "\u001b[0;32m/var/folders/gl/_nryh87j2mb45czqyl222zph0000gn/T/ipykernel_64342/2055853263.py\u001b[0m in \u001b[0;36mfit_log_reg\u001b[0;34m(X, y, itr, lr)\u001b[0m\n\u001b[1;32m     22\u001b[0m         \u001b[0mtheta\u001b[0m \u001b[0;34m=\u001b[0m \u001b[0mtheta\u001b[0m \u001b[0;34m-\u001b[0m \u001b[0;34m(\u001b[0m \u001b[0mlr\u001b[0m \u001b[0;34m*\u001b[0m \u001b[0mgrad\u001b[0m\u001b[0;34m)\u001b[0m\u001b[0;34m\u001b[0m\u001b[0;34m\u001b[0m\u001b[0m\n\u001b[1;32m     23\u001b[0m         \u001b[0;31m#print(theta.shape)\u001b[0m\u001b[0;34m\u001b[0m\u001b[0;34m\u001b[0m\u001b[0m\n\u001b[0;32m---> 24\u001b[0;31m         \u001b[0mcost\u001b[0m \u001b[0;34m=\u001b[0m \u001b[0mcost_func\u001b[0m\u001b[0;34m(\u001b[0m\u001b[0my\u001b[0m\u001b[0;34m,\u001b[0m \u001b[0msig\u001b[0m\u001b[0;34m(\u001b[0m\u001b[0mnp\u001b[0m\u001b[0;34m.\u001b[0m\u001b[0mdot\u001b[0m\u001b[0;34m(\u001b[0m\u001b[0mX\u001b[0m\u001b[0;34m,\u001b[0m \u001b[0mtheta\u001b[0m\u001b[0;34m)\u001b[0m\u001b[0;34m)\u001b[0m\u001b[0;34m,\u001b[0m \u001b[0mm\u001b[0m\u001b[0;34m)\u001b[0m\u001b[0;34m\u001b[0m\u001b[0;34m\u001b[0m\u001b[0m\n\u001b[0m\u001b[1;32m     25\u001b[0m         \u001b[0mcost_list\u001b[0m\u001b[0;34m.\u001b[0m\u001b[0mappend\u001b[0m\u001b[0;34m(\u001b[0m\u001b[0mcost\u001b[0m\u001b[0;34m)\u001b[0m\u001b[0;34m\u001b[0m\u001b[0;34m\u001b[0m\u001b[0m\n\u001b[1;32m     26\u001b[0m     \u001b[0;32mreturn\u001b[0m \u001b[0mtheta\u001b[0m\u001b[0;34m,\u001b[0m \u001b[0mcost_list\u001b[0m\u001b[0;34m\u001b[0m\u001b[0;34m\u001b[0m\u001b[0m\n",
      "\u001b[0;32m<__array_function__ internals>\u001b[0m in \u001b[0;36mdot\u001b[0;34m(*args, **kwargs)\u001b[0m\n",
      "\u001b[0;31mKeyboardInterrupt\u001b[0m: "
     ]
    },
    {
     "data": {
      "image/png": "[encoded data removed]",
      "text/plain": [
       "<Figure size 432x288 with 1 Axes>"
      ]
     },
     "metadata": {
      "needs_background": "light"
     },
     "output_type": "display_data"
    }
   ],
   "source": [
    "# using first fold\n",
    "i = 0\n",
    "X_test  = EX_train[i*1000:(i+1)*1000]\n",
    "y_test  = Ey_train[i*1000:(i+1)*1000] \n",
    "indices = np.arange(i*1000, (i+1)*1000, 1, dtype=int)\n",
    "X_train = np.delete(EX_train, indices, axis=0)\n",
    "y_train = np.delete(Ey_train, indices, axis=0)\n",
    "\n",
    "# get knn classifier\n",
    "clf = KNeighborsClassifier(5)\n",
    "clf.fit(X_train, y_train)\n",
    "predictions_knn = clf.predict(X_test)\n",
    "\n",
    "fpr, tpr, _ = metrics.roc_curve(y_test,  predictions_knn)\n",
    "auc = metrics.roc_auc_score(y_test, predictions_knn)\n",
    "\n",
    "#create ROC curve\n",
    "plt.plot(fpr,tpr,label=\"KNN(N=5) AUC=\"+str(auc))\n",
    "\n",
    "\n",
    "# get logistic regression classifer\n",
    "theta,cost_list = fit_log_reg(X_train, y_train, 10000, 0.01)\n",
    "# Make predictions\n",
    "predictions = predict(X_test, theta)\n",
    "#fpr, tpr, _ = metrics.roc_curve(y_test, predictions)\n",
    "#auc = metrics.roc_auc_score(y_test, predictions)\n",
    "#plt.plot(fpr,tpr,label=\"Logistic Regression, AUC=\"+str(auc))\n",
    "\n",
    "#plt.ylabel('True Positive Rate')\n",
    "#plt.xlabel('False Positive Rate')\n",
    "#plt.legend()\n",
    "#plt.show()"
   ]
  },
  {
   "cell_type": "code",
   "execution_count": null,
   "id": "2d2e9c35",
   "metadata": {},
   "outputs": [],
   "source": []
  }
 ],
 "metadata": {
  "kernelspec": {
   "display_name": "Python 3 (ipykernel)",
   "language": "python",
   "name": "python3"
  },
  "language_info": {
   "codemirror_mode": {
    "name": "ipython",
    "version": 3
   },
   "file_extension": ".py",
   "mimetype": "text/x-python",
   "name": "python",
   "nbconvert_exporter": "python",
   "pygments_lexer": "ipython3",
   "version": "3.9.7"
  }
 },
 "nbformat": 4,
 "nbformat_minor": 5
}
